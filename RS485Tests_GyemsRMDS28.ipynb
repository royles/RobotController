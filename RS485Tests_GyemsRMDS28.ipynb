{
 "cells": [
  {
   "cell_type": "code",
   "execution_count": 1,
   "metadata": {},
   "outputs": [
    {
     "name": "stdout",
     "output_type": "stream",
     "text": [
      "Requirement already satisfied: pyserial in c:\\users\\chris\\appdata\\local\\programs\\python\\python37-32\\lib\\site-packages (3.4)\n",
      "Requirement already satisfied: numpy in c:\\users\\chris\\appdata\\local\\programs\\python\\python37-32\\lib\\site-packages (1.19.0)\n"
     ]
    }
   ],
   "source": [
    "!pip3 install pyserial\n",
    "!pip3 install numpy"
   ]
  },
  {
   "cell_type": "code",
   "execution_count": 37,
   "metadata": {},
   "outputs": [
    {
     "name": "stdout",
     "output_type": "stream",
     "text": [
      "COM1: Communications Port (COM1) [ACPI\\PNP0501\\0]\n",
      "COM3: Silicon Labs CP210x USB to UART Bridge (COM3) [USB VID:PID=10C4:EA60 SER=0001 LOCATION=1-2.4]\n"
     ]
    }
   ],
   "source": [
    "#!/usr/bin/env python3\n",
    "import serial\n",
    "import serial.rs485\n",
    "import struct\n",
    "import time\n",
    "import numpy as np\n",
    "import queue\n",
    "\n",
    "import serial.tools.list_ports\n",
    "ports = serial.tools.list_ports.comports()\n",
    "for port, desc, hwid in sorted(ports):\n",
    "        print(\"{}: {} [{}]\".format(port, desc, hwid))"
   ]
  },
  {
   "cell_type": "code",
   "execution_count": 38,
   "metadata": {},
   "outputs": [
    {
     "name": "stdout",
     "output_type": "stream",
     "text": [
      "True\n"
     ]
    }
   ],
   "source": [
    "ser = serial.Serial(\n",
    "               port=\"COM3\",\n",
    "               baudrate = 115200,\n",
    "               parity=serial.PARITY_NONE,\n",
    "               stopbits=serial.STOPBITS_ONE,\n",
    "               bytesize=serial.EIGHTBITS,\n",
    "               timeout=1)\n",
    "ser.rs485_mode = serial.rs485.RS485Settings()\n",
    "print(ser.isOpen())"
   ]
  },
  {
   "cell_type": "code",
   "execution_count": 77,
   "metadata": {},
   "outputs": [],
   "source": [
    "class RS485command:\n",
    "    \n",
    "    header = '3E'\n",
    "    id = '00'\n",
    "    \n",
    "    def __init__(self, ser, id):\n",
    "        self.id = id\n",
    "        self.ser = ser\n",
    "        \n",
    "    def parseHeader(self, ser_bytes):\n",
    "        msg = {}\n",
    "        msg['header'] = hex(ser_bytes[0])\n",
    "        msg['command'] = hex(ser_bytes[1])\n",
    "        msg['id'] = ser_bytes[2]\n",
    "        msg['data_length'] = ser_bytes[3]\n",
    "        msg['head_check_byte'] = hex(ser_bytes[4]) \n",
    "        chksum = sum(ser_bytes[0:4])%256\n",
    "        return msg        \n",
    "        \n",
    "    def msgBuilder(self, header, data):\n",
    "        hexAsBAhead = bytearray.fromhex(header)\n",
    "        chksumhead = sum(hexAsBAhead)%256\n",
    "        if(data == ''):\n",
    "            return hexAsBAhead + chksumhead.to_bytes(1,'little')\n",
    "        chksumbody = sum(data)%256\n",
    "        return hexAsBAhead + chksumhead.to_bytes(1,'little') + data + chksumbody.to_bytes(1,'little')  \n",
    "    \n",
    "    def speed(self, speed):\n",
    "        # 0.01 DPS increments\n",
    "        header = self.header + 'A2' + self.id + '04'\n",
    "        data = speed.to_bytes(4, 'little', signed=True)\n",
    "        return self.msgBuilder(header, data)\n",
    "    \n",
    "    def angle(self, angle):\n",
    "        # -36000 - 36000 in 0.01 deg increments\n",
    "        header = self.header + 'A3' + self.id + '08'\n",
    "        data = angle.to_bytes(8, 'little', signed=True)\n",
    "        return self.msgBuilder(header, data)\n",
    "    \n",
    "    def angleInc(self, angleInc):\n",
    "        # -36000 - 36000 in 0.01 deg increments\n",
    "        header = self.header + 'A7' + self.id + '04'\n",
    "        data = angleInc.to_bytes(4, 'little', signed=True)\n",
    "        return self.msgBuilder(header, data)\n",
    "    \n",
    "\n",
    "class RMDS28MotorDriver(RS485command):\n",
    "    \n",
    "    \n",
    "    def torque(self, power):        # -1000 - 1000\n",
    "        header = self.header + 'A0' + self.id + '02'\n",
    "        data = power.to_bytes(2, 'little', signed=True)\n",
    "        self.ser.write(self.msgBuilder(header, data))\n",
    "        ser_bytes = self.ser.read(13)\n",
    "        msg = self.parseHeader(ser_bytes)\n",
    "        msg['temperature'] = ser_bytes[5]\n",
    "        msg['power'] = int.from_bytes(ser_bytes[5:7], 'little')\n",
    "        msg['speed'] = int.from_bytes(ser_bytes[7:9], 'little')\n",
    "        msg['position'] = int.from_bytes(ser_bytes[9:11], 'little')\n",
    "        msg['data_check_byte'] = hex(ser_bytes[11])\n",
    "        return (msg)   \n",
    "    \n",
    "    def speed(self, speed):         # 0.01 DPS\n",
    "        header = self.header + 'A2' + self.id + '04'\n",
    "        data = speed.to_bytes(4, 'little', signed=True)\n",
    "        self.ser.write(self.msgBuilder(header, data))\n",
    "        ser_bytes = self.ser.read(13)\n",
    "        msg = self.parseHeader(ser_bytes)\n",
    "        msg['temperature'] = ser_bytes[5]\n",
    "        msg['power'] = int.from_bytes(ser_bytes[5:7], 'little')\n",
    "        msg['speed'] = int.from_bytes(ser_bytes[7:9], 'little')\n",
    "        msg['position'] = int.from_bytes(ser_bytes[9:11], 'little')\n",
    "        msg['data_check_byte'] = hex(ser_bytes[11])\n",
    "        return (msg) \n",
    "    \n",
    "    def angle(self, direction, angle, speed):\n",
    "        # 36000 DPS\n",
    "        header = self.header + 'A6' + self.id + '08'\n",
    "        data = direction.to_bytes(1, 'little', signed=False)\n",
    "        data = data + angle.to_bytes(2, 'little', signed=False)\n",
    "        data = data + b'\\x00'\n",
    "        data = data + speed.to_bytes(4, 'little', signed=False)\n",
    "        self.ser.write(self.msgBuilder(header, data))\n",
    "        ser_bytes = self.ser.read(13)\n",
    "        msg = self.parseHeader(ser_bytes)\n",
    "        msg['temperature'] = ser_bytes[5]\n",
    "        msg['power'] = int.from_bytes(ser_bytes[5:7], 'little')\n",
    "        msg['speed'] = int.from_bytes(ser_bytes[7:9], 'little')\n",
    "        msg['position'] = int.from_bytes(ser_bytes[9:11], 'little')\n",
    "        msg['data_check_byte'] = hex(ser_bytes[11])\n",
    "        return (msg)      \n",
    "    \n",
    "    def incAngle(self, angle):\n",
    "        # 36000 DPS\n",
    "        header = self.header + 'A7' + self.id + '04'\n",
    "        data = angle.to_bytes(4, 'little', signed=True)\n",
    "        self.ser.write(self.msgBuilder(header, data))\n",
    "        ser_bytes = self.ser.read(13)\n",
    "        msg = self.parseHeader(ser_bytes)\n",
    "        msg['temperature'] = ser_bytes[5]\n",
    "        msg['power'] = int.from_bytes(ser_bytes[5:7], 'little')\n",
    "        msg['speed'] = int.from_bytes(ser_bytes[7:9], 'little')\n",
    "        msg['position'] = int.from_bytes(ser_bytes[9:11], 'little')\n",
    "        msg['data_check_byte'] = hex(ser_bytes[11])\n",
    "        return (msg)     \n",
    "    \n",
    "    \n",
    "    def readPID(self):\n",
    "        header = self.header + '30' + self.id + '00'\n",
    "        self.ser.write(self.msgBuilder(header, ''))\n",
    "        ser_bytes = self.ser.read(12)\n",
    "        msg = self.parseHeader(ser_bytes)\n",
    "        msg['anglePidKp'] = ser_bytes[5]\n",
    "        msg['anglePidKi'] = ser_bytes[6]\n",
    "        msg['speedPidKp'] = ser_bytes[7]\n",
    "        msg['speedPidKi'] = ser_bytes[8]\n",
    "        msg['iqPidKp'] = ser_bytes[9]\n",
    "        msg['iqPidKi'] = ser_bytes[10]\n",
    "        msg['data_check_byte'] = hex(ser_bytes[11])\n",
    "        return (msg)\n",
    "    \n",
    "    def readEncoder(self):\n",
    "        header = self.header + '90' + self.id + '00'\n",
    "        self.ser.write(self.msgBuilder(header, ''))\n",
    "        ser_bytes = self.ser.read(12)\n",
    "        msg = self.parseHeader(ser_bytes)\n",
    "        msg['data'] = int.from_bytes(ser_bytes[5:7], 'little')  # 0~16383\n",
    "        msg['original'] = int.from_bytes(ser_bytes[7:9], 'little')\n",
    "        msg['zero'] = int.from_bytes(ser_bytes[7:9], 'little')\n",
    "        msg['data_check_byte'] = ser_bytes[9]\n",
    "        return (msg)   \n",
    "    \n",
    "    def readAngle(self):\n",
    "        header = self.header + '94' + self.id + '00'\n",
    "        self.ser.write(self.msgBuilder(header, ''))\n",
    "        ser_bytes = self.ser.read(8)\n",
    "        msg = self.parseHeader(ser_bytes)\n",
    "        msg['angle'] = int.from_bytes(ser_bytes[5:7], 'little')*0.01  # 0-35999\n",
    "        msg['data_check_byte'] = ser_bytes[7]\n",
    "        return (msg)      \n",
    "    \n",
    "    def readState(self):\n",
    "        header = self.header + '9A' + self.id + '00'\n",
    "        self.ser.write(self.msgBuilder(header, ''))\n",
    "        ser_bytes = self.ser.read(13)\n",
    "        msg = self.parseHeader(ser_bytes)\n",
    "        msg['temperature'] = ser_bytes[5] \n",
    "        msg['voltage'] = int.from_bytes(ser_bytes[7:9], 'little')*0.1\n",
    "        msg['error_status'] = ser_bytes[11]\n",
    "        msg['data_check_byte'] = hex(ser_bytes[12])\n",
    "        return (msg)     \n",
    "    \n",
    "    def clearError(self):\n",
    "        header = self.header + '9B' + self.id + '00'\n",
    "        self.ser.write(self.msgBuilder(header, ''))\n",
    "        ser_bytes = self.ser.read(13)\n",
    "        msg = self.parseHeader(ser_bytes)\n",
    "        msg['temperature'] = ser_bytes[5] \n",
    "        msg['voltage'] = int.from_bytes(ser_bytes[7:9], 'little')*0.1\n",
    "        msg['error_status'] = ser_bytes[11]\n",
    "        msg['data_check_byte'] = hex(ser_bytes[12])\n",
    "        return (msg)      \n",
    "    \n",
    "    def version(self):\n",
    "        header = self.header + '12' + self.id + '00'\n",
    "        self.ser.write(self.msgBuilder(header, ''))\n",
    "        ser_bytes = self.ser.read(48)\n",
    "        msg = self.parseHeader(ser_bytes)\n",
    "        msg['driver_name'] = ser_bytes[5:24].decode(\"ascii\").strip('\\x00')\n",
    "        msg['motor_name'] = ser_bytes[24:43].decode(\"ascii\").strip('\\x00')\n",
    "        msg['hardware_version'] = ser_bytes[45]*0.1\n",
    "        msg['firmware_version'] = ser_bytes[46]*0.1\n",
    "        msg['data_check_byte'] = hex(ser_bytes[47])\n",
    "        return (msg)   \n",
    "    \n",
    "    def stop(self):\n",
    "        header = self.header + '81' + self.id + '00'\n",
    "        self.ser.write(self.msgBuilder(header, ''))\n",
    "        ser_bytes = self.ser.read(5)\n",
    "        \n",
    "        msg = self.parseHeader(ser_bytes)\n",
    "        return (msg)           "
   ]
  },
  {
   "cell_type": "code",
   "execution_count": 78,
   "metadata": {},
   "outputs": [
    {
     "name": "stdout",
     "output_type": "stream",
     "text": [
      "{'header': '0x3e', 'command': '0x12', 'id': 1, 'data_length': 42, 'head_check_byte': '0x7b', 'driver_name': 'DRD01-S1', 'motor_name': '28XX', 'hardware_version': 2.0, 'firmware_version': 1.7000000000000002, 'data_check_byte': '0x2b'}\n"
     ]
    }
   ],
   "source": [
    "\n",
    "version = RMDS28MotorDriver(ser, '01').version()\n",
    "print(version)"
   ]
  },
  {
   "cell_type": "code",
   "execution_count": 79,
   "metadata": {},
   "outputs": [
    {
     "name": "stdout",
     "output_type": "stream",
     "text": [
      "{'header': '0x3e', 'command': '0x30', 'id': 1, 'data_length': 6, 'head_check_byte': '0x75', 'anglePidKp': 100, 'anglePidKi': 100, 'speedPidKp': 30, 'speedPidKi': 8, 'iqPidKp': 0, 'iqPidKi': 0, 'data_check_byte': '0xee'}\n"
     ]
    }
   ],
   "source": [
    "msg = RMDS28MotorDriver(ser, '01').readPID()\n",
    "print(msg)"
   ]
  },
  {
   "cell_type": "code",
   "execution_count": 80,
   "metadata": {},
   "outputs": [
    {
     "name": "stdout",
     "output_type": "stream",
     "text": [
      "{'header': '0x3e', 'command': '0x9a', 'id': 1, 'data_length': 7, 'head_check_byte': '0xe0', 'temperature': 34, 'voltage': 12.0, 'error_status': 0, 'data_check_byte': '0x9a'}\n"
     ]
    }
   ],
   "source": [
    "msg = RMDS28MotorDriver(ser, '01').readState()\n",
    "print(msg)"
   ]
  },
  {
   "cell_type": "code",
   "execution_count": 81,
   "metadata": {},
   "outputs": [
    {
     "name": "stdout",
     "output_type": "stream",
     "text": [
      "{'header': '0x3e', 'command': '0x9b', 'id': 1, 'data_length': 7, 'head_check_byte': '0xe1', 'temperature': 34, 'voltage': 12.100000000000001, 'error_status': 0, 'data_check_byte': '0x9b'}\n"
     ]
    }
   ],
   "source": [
    "msg = RMDS28MotorDriver(ser, '01').clearError()\n",
    "print(msg)"
   ]
  },
  {
   "cell_type": "code",
   "execution_count": 82,
   "metadata": {},
   "outputs": [
    {
     "name": "stdout",
     "output_type": "stream",
     "text": [
      "{'header': '0x3e', 'command': '0x81', 'id': 1, 'data_length': 0, 'head_check_byte': '0xc0'}\n"
     ]
    }
   ],
   "source": [
    "msg = RMDS28MotorDriver(ser, '01').stop()\n",
    "print(msg)"
   ]
  },
  {
   "cell_type": "code",
   "execution_count": 83,
   "metadata": {},
   "outputs": [
    {
     "name": "stdout",
     "output_type": "stream",
     "text": [
      "{'header': '0x3e', 'command': '0x90', 'id': 1, 'data_length': 6, 'head_check_byte': '0xd5', 'data': 3782, 'original': 3550, 'zero': 3550, 'data_check_byte': 24}\n"
     ]
    }
   ],
   "source": [
    "msg = RMDS28MotorDriver(ser, '01').readEncoder()\n",
    "print(msg)"
   ]
  },
  {
   "cell_type": "code",
   "execution_count": 84,
   "metadata": {},
   "outputs": [
    {
     "name": "stdout",
     "output_type": "stream",
     "text": [
      "{'header': '0x3e', 'command': '0x94', 'id': 1, 'data_length': 2, 'head_check_byte': '0xd5', 'angle': 332.40000000000003, 'data_check_byte': 89}\n"
     ]
    }
   ],
   "source": [
    "msg = RMDS28MotorDriver(ser, '01').readAngle()\n",
    "print(msg)"
   ]
  },
  {
   "cell_type": "code",
   "execution_count": 85,
   "metadata": {},
   "outputs": [
    {
     "name": "stdout",
     "output_type": "stream",
     "text": [
      "{'header': '0x3e', 'command': '0xa0', 'id': 1, 'data_length': 7, 'head_check_byte': '0xe6', 'temperature': 34, 'power': 34, 'speed': 0, 'position': 50688, 'data_check_byte': '0xe'}\n"
     ]
    }
   ],
   "source": [
    "msg = RMDS28MotorDriver(ser, '01').torque(100)\n",
    "print(msg)"
   ]
  },
  {
   "cell_type": "code",
   "execution_count": 86,
   "metadata": {},
   "outputs": [
    {
     "name": "stdout",
     "output_type": "stream",
     "text": [
      "{'header': '0x3e', 'command': '0xa2', 'id': 1, 'data_length': 7, 'head_check_byte': '0xe8', 'temperature': 34, 'power': 25634, 'speed': 16640, 'position': 7172, 'data_check_byte': '0xe'}\n"
     ]
    }
   ],
   "source": [
    "msg = RMDS28MotorDriver(ser, '01').speed(-1000)\n",
    "print(msg)"
   ]
  },
  {
   "cell_type": "code",
   "execution_count": 87,
   "metadata": {},
   "outputs": [
    {
     "name": "stdout",
     "output_type": "stream",
     "text": [
      "{'header': '0x3e', 'command': '0xa6', 'id': 1, 'data_length': 7, 'head_check_byte': '0xec', 'temperature': 34, 'power': 59170, 'speed': 12799, 'position': 51968, 'data_check_byte': '0xd'}\n"
     ]
    }
   ],
   "source": [
    "msg = RMDS28MotorDriver(ser, '01').angle(0, 100, 10000)\n",
    "print(msg)"
   ]
  },
  {
   "cell_type": "code",
   "execution_count": 88,
   "metadata": {},
   "outputs": [
    {
     "name": "stdout",
     "output_type": "stream",
     "text": [
      "{'header': '0x3e', 'command': '0xa7', 'id': 1, 'data_length': 7, 'head_check_byte': '0xed', 'temperature': 34, 'power': 1314, 'speed': 52736, 'position': 3327, 'data_check_byte': '0x0'}\n"
     ]
    }
   ],
   "source": [
    "msg = RMDS28MotorDriver(ser, '01').incAngle(-3000)\n",
    "print(msg)"
   ]
  },
  {
   "cell_type": "code",
   "execution_count": 34,
   "metadata": {},
   "outputs": [],
   "source": [
    "ser.close()"
   ]
  },
  {
   "cell_type": "code",
   "execution_count": null,
   "metadata": {},
   "outputs": [],
   "source": []
  }
 ],
 "metadata": {
  "kernelspec": {
   "display_name": "Python 3",
   "language": "python",
   "name": "python3"
  },
  "language_info": {
   "codemirror_mode": {
    "name": "ipython",
    "version": 3
   },
   "file_extension": ".py",
   "mimetype": "text/x-python",
   "name": "python",
   "nbconvert_exporter": "python",
   "pygments_lexer": "ipython3",
   "version": "3.7.4"
  }
 },
 "nbformat": 4,
 "nbformat_minor": 2
}
